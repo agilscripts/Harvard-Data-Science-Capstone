{
 "cells": [
  {
   "cell_type": "code",
   "execution_count": 1,
   "id": "a9098362-010d-4e52-8a8d-6142dca4b116",
   "metadata": {},
   "outputs": [],
   "source": [
    "# Import necessary libraries\n",
    "import pandas as pd\n",
    "import numpy as np\n",
    "from sklearn.model_selection import train_test_split"
   ]
  },
  {
   "cell_type": "code",
   "execution_count": 5,
   "id": "cd5eaa93-f8a9-4faa-a945-d22cce3b0c64",
   "metadata": {},
   "outputs": [],
   "source": [
    "# Load the data\n",
    "ratings = pd.read_csv(\"ratings.csv\")\n",
    "movies = pd.read_csv(\"movies.csv\")\n",
    "tags = pd.read_csv(\"tags.csv\")\n",
    "links = pd.read_csv(\"links.csv\")"
   ]
  },
  {
   "cell_type": "code",
   "execution_count": 6,
   "id": "94a648d2-4490-4221-9ac5-a77816e4f562",
   "metadata": {},
   "outputs": [
    {
     "name": "stdout",
     "output_type": "stream",
     "text": [
      "   userId  movieId  rating  timestamp\n",
      "0       1        1     4.0  964982703\n",
      "1       1        3     4.0  964981247\n",
      "2       1        6     4.0  964982224\n",
      "3       1       47     5.0  964983815\n",
      "4       1       50     5.0  964982931\n",
      "   movieId                               title  \\\n",
      "0        1                    Toy Story (1995)   \n",
      "1        2                      Jumanji (1995)   \n",
      "2        3             Grumpier Old Men (1995)   \n",
      "3        4            Waiting to Exhale (1995)   \n",
      "4        5  Father of the Bride Part II (1995)   \n",
      "\n",
      "                                        genres  \n",
      "0  Adventure|Animation|Children|Comedy|Fantasy  \n",
      "1                   Adventure|Children|Fantasy  \n",
      "2                               Comedy|Romance  \n",
      "3                         Comedy|Drama|Romance  \n",
      "4                                       Comedy  \n",
      "   userId  movieId              tag   timestamp\n",
      "0       2    60756            funny  1445714994\n",
      "1       2    60756  Highly quotable  1445714996\n",
      "2       2    60756     will ferrell  1445714992\n",
      "3       2    89774     Boxing story  1445715207\n",
      "4       2    89774              MMA  1445715200\n",
      "   movieId  imdbId   tmdbId\n",
      "0        1  114709    862.0\n",
      "1        2  113497   8844.0\n",
      "2        3  113228  15602.0\n",
      "3        4  114885  31357.0\n",
      "4        5  113041  11862.0\n"
     ]
    }
   ],
   "source": [
    "# Check the first few rows of each dataframe to understand the data\n",
    "print(ratings.head())\n",
    "print(movies.head())\n",
    "print(tags.head())\n",
    "print(links.head())"
   ]
  },
  {
   "cell_type": "code",
   "execution_count": 7,
   "id": "fcd1d1fd-acf9-43ae-974c-91ea4b1b123a",
   "metadata": {},
   "outputs": [
    {
     "name": "stdout",
     "output_type": "stream",
     "text": [
      "   userId  movieId  rating  timestamp                        title  \\\n",
      "0       1        1     4.0  964982703             Toy Story (1995)   \n",
      "1       1        3     4.0  964981247      Grumpier Old Men (1995)   \n",
      "2       1        6     4.0  964982224                  Heat (1995)   \n",
      "3       1       47     5.0  964983815  Seven (a.k.a. Se7en) (1995)   \n",
      "4       1       50     5.0  964982931   Usual Suspects, The (1995)   \n",
      "\n",
      "                                        genres  \n",
      "0  Adventure|Animation|Children|Comedy|Fantasy  \n",
      "1                               Comedy|Romance  \n",
      "2                        Action|Crime|Thriller  \n",
      "3                             Mystery|Thriller  \n",
      "4                       Crime|Mystery|Thriller  \n"
     ]
    }
   ],
   "source": [
    "# Merge ratings and movies on movieId\n",
    "merged_data = pd.merge(ratings, movies, on='movieId')\n",
    "\n",
    "# Check the first few rows of the merged dataset\n",
    "print(merged_data.head())"
   ]
  },
  {
   "cell_type": "code",
   "execution_count": 8,
   "id": "780aee15-7e66-46fe-abb3-88c1359e2507",
   "metadata": {},
   "outputs": [
    {
     "name": "stdout",
     "output_type": "stream",
     "text": [
      "edx size: (90752, 6)\n",
      "final_holdout_test size: (10084, 6)\n"
     ]
    }
   ],
   "source": [
    "# Split data into edx and final_holdout_test sets (90% for edx, 10% for final_holdout_test)\n",
    "edx, final_holdout_test = train_test_split(merged_data, test_size=0.1, random_state=1)\n",
    "\n",
    "# Check the size of the splits\n",
    "print(f\"edx size: {edx.shape}\")\n",
    "print(f\"final_holdout_test size: {final_holdout_test.shape}\")"
   ]
  },
  {
   "cell_type": "code",
   "execution_count": 9,
   "id": "33d334b8-da51-4fe3-aadf-c19ff4c4e137",
   "metadata": {},
   "outputs": [],
   "source": [
    "# Ensure userId and movieId in final_holdout_test are also in edx\n",
    "final_holdout_test = final_holdout_test[\n",
    "    final_holdout_test['movieId'].isin(edx['movieId']) & \n",
    "    final_holdout_test['userId'].isin(edx['userId'])\n",
    "]"
   ]
  },
  {
   "cell_type": "code",
   "execution_count": 10,
   "id": "731c073c-ef4f-462f-95af-b6a7521c1266",
   "metadata": {},
   "outputs": [
    {
     "name": "stdout",
     "output_type": "stream",
     "text": [
      "Baseline RMSE: 0.9665500546659129\n"
     ]
    }
   ],
   "source": [
    "# Calculate the average rating for each movie\n",
    "movie_avg_rating = edx.groupby('movieId')['rating'].mean()\n",
    "\n",
    "# Merge the average ratings into the final_holdout_test set\n",
    "final_holdout_test = pd.merge(final_holdout_test, movie_avg_rating, on='movieId', suffixes=('', '_avg'))\n",
    "\n",
    "# Calculate RMSE (Root Mean Square Error)\n",
    "from sklearn.metrics import mean_squared_error\n",
    "\n",
    "# Compute RMSE between actual ratings and predicted average ratings\n",
    "rmse = np.sqrt(mean_squared_error(final_holdout_test['rating'], final_holdout_test['rating_avg']))\n",
    "print(f'Baseline RMSE: {rmse}')"
   ]
  }
 ],
 "metadata": {
  "kernelspec": {
   "display_name": "Python 3 (ipykernel)",
   "language": "python",
   "name": "python3"
  },
  "language_info": {
   "codemirror_mode": {
    "name": "ipython",
    "version": 3
   },
   "file_extension": ".py",
   "mimetype": "text/x-python",
   "name": "python",
   "nbconvert_exporter": "python",
   "pygments_lexer": "ipython3",
   "version": "3.12.4"
  }
 },
 "nbformat": 4,
 "nbformat_minor": 5
}
